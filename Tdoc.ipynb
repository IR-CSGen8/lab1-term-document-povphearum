{
 "cells": [
  {
   "cell_type": "code",
   "execution_count": 1,
   "metadata": {},
   "outputs": [
    {
     "name": "stdout",
     "output_type": "stream",
     "text": [
      "        title                                                       content\n",
      "0  Document 1           This is the first document. It contains some words.\n",
      "1  Document 2  The second document is a bit longer and has different words.\n",
      "2  Document 3  The third document is short. Short documents can be concise.\n"
     ]
    }
   ],
   "source": [
    "import pandas as pd\n",
    "df=pd.read_csv('tdoc.csv',header=None, names=[\"title\",\"content\"])\n",
    "\n",
    "print(df.to_string())"
   ]
  },
  {
   "cell_type": "code",
   "execution_count": 6,
   "metadata": {},
   "outputs": [
    {
     "data": {
      "text/plain": [
       "0    Document 1\n",
       "1    Document 2\n",
       "2    Document 3\n",
       "Name: title, dtype: object"
      ]
     },
     "execution_count": 6,
     "metadata": {},
     "output_type": "execute_result"
    }
   ],
   "source": [
    "# get the keys of the documents and store it in the list\n",
    "df['title']\n"
   ]
  },
  {
   "cell_type": "code",
   "execution_count": 8,
   "metadata": {},
   "outputs": [
    {
     "name": "stdout",
     "output_type": "stream",
     "text": [
      "0    This is the first document. It contains some w...\n",
      "1    The second document is a bit longer and has di...\n",
      "2    The third document is short. Short documents c...\n",
      "Name: content, dtype: object\n"
     ]
    }
   ],
   "source": [
    "# Extract the content values and put them in a list\n",
    "doc_contents = df['content']\n",
    "print(doc_contents)\n"
   ]
  },
  {
   "cell_type": "code",
   "execution_count": 9,
   "metadata": {},
   "outputs": [
    {
     "data": {
      "text/plain": [
       "{'It',\n",
       " 'Short',\n",
       " 'The',\n",
       " 'This',\n",
       " 'a',\n",
       " 'and',\n",
       " 'be',\n",
       " 'bit',\n",
       " 'can',\n",
       " 'concise.',\n",
       " 'contains',\n",
       " 'different',\n",
       " 'document',\n",
       " 'document.',\n",
       " 'documents',\n",
       " 'first',\n",
       " 'has',\n",
       " 'is',\n",
       " 'longer',\n",
       " 'second',\n",
       " 'short.',\n",
       " 'some',\n",
       " 'the',\n",
       " 'third',\n",
       " 'words.'}"
      ]
     },
     "execution_count": 9,
     "metadata": {},
     "output_type": "execute_result"
    }
   ],
   "source": [
    "# Gather the set of all unique terms from the list content of document and diplay the result\n",
    "\n",
    "# unique_term =[]\n",
    "# for doc in document_content_list:\n",
    "    \n",
    "#     terms=list(doc.split())\n",
    "#     for term in terms:\n",
    "#         unique_term.append(term)\n",
    "# print(unique_term)\n",
    "\n",
    "\n",
    "unique_terms = {term for doc in doc_contents for term in doc.split()}\n",
    "unique_terms"
   ]
  },
  {
   "cell_type": "code",
   "execution_count": 17,
   "metadata": {},
   "outputs": [],
   "source": [
    "df2 = pd.DataFrame(unique_terms)\n",
    "df2.to_csv(\"tdoc2.csv\", header=False, index=False)"
   ]
  }
 ],
 "metadata": {
  "kernelspec": {
   "display_name": "Python 3",
   "language": "python",
   "name": "python3"
  },
  "language_info": {
   "codemirror_mode": {
    "name": "ipython",
    "version": 3
   },
   "file_extension": ".py",
   "mimetype": "text/x-python",
   "name": "python",
   "nbconvert_exporter": "python",
   "pygments_lexer": "ipython3",
   "version": "3.11.3"
  },
  "orig_nbformat": 4
 },
 "nbformat": 4,
 "nbformat_minor": 2
}
