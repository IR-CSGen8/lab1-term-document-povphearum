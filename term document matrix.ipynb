{
 "cells": [
  {
   "cell_type": "code",
   "execution_count": 7,
   "id": "5fef2e9c",
   "metadata": {},
   "outputs": [],
   "source": [
    "#Collection of documents (corpus)\n",
    "\n",
    "review_1 = \"The Glider II is a great soccer ball\"\n",
    "review_2 = \"What a bad soccer ball\"\n",
    "review_3 = \"I am happy with The glider\""
   ]
  },
  {
   "cell_type": "code",
   "execution_count": 8,
   "id": "f86aaa52",
   "metadata": {},
   "outputs": [
    {
     "data": {
      "text/plain": [
       "['The Glider II is a great soccer ball',\n",
       " 'What a bad soccer ball',\n",
       " 'I am happy with The glider']"
      ]
     },
     "execution_count": 8,
     "metadata": {},
     "output_type": "execute_result"
    }
   ],
   "source": [
    "docs = [review_1, review_2, review_3]\n",
    "docs"
   ]
  },
  {
   "cell_type": "code",
   "execution_count": 9,
   "id": "9acda870",
   "metadata": {},
   "outputs": [
    {
     "data": {
      "text/plain": [
       "{'Glider',\n",
       " 'I',\n",
       " 'II',\n",
       " 'The',\n",
       " 'What',\n",
       " 'a',\n",
       " 'am',\n",
       " 'bad',\n",
       " 'ball',\n",
       " 'glider',\n",
       " 'great',\n",
       " 'happy',\n",
       " 'is',\n",
       " 'soccer',\n",
       " 'with'}"
      ]
     },
     "execution_count": 9,
     "metadata": {},
     "output_type": "execute_result"
    }
   ],
   "source": [
    "#Gather the set of all unique terms\n",
    "\n",
    "unique_terms = {term for doc in docs for term in doc.split()}\n",
    "unique_terms"
   ]
  },
  {
   "cell_type": "code",
   "execution_count": 10,
   "id": "eb862580",
   "metadata": {},
   "outputs": [
    {
     "data": {
      "text/plain": [
       "{'bad': [0, 1, 0],\n",
       " 'great': [1, 0, 0],\n",
       " 'is': [1, 0, 0],\n",
       " 'II': [1, 0, 0],\n",
       " 'soccer': [1, 1, 0],\n",
       " 'ball': [1, 1, 0],\n",
       " 'am': [0, 0, 1],\n",
       " 'a': [1, 1, 1],\n",
       " 'The': [1, 0, 1],\n",
       " 'happy': [0, 0, 1],\n",
       " 'glider': [0, 0, 1],\n",
       " 'with': [0, 0, 1],\n",
       " 'I': [1, 0, 1],\n",
       " 'What': [0, 1, 0],\n",
       " 'Glider': [1, 0, 0]}"
      ]
     },
     "execution_count": 10,
     "metadata": {},
     "output_type": "execute_result"
    }
   ],
   "source": [
    "#Construct a term-document matrix\n",
    "#here as a Python dictionary for ease of interpretabiliy\n",
    "\n",
    "doc_term_matrix = {}\n",
    "\n",
    "for term in unique_terms:\n",
    "    doc_term_matrix[term] = []\n",
    "    \n",
    "    for doc in docs:\n",
    "        if term in doc:\n",
    "            doc_term_matrix[term].append(1)\n",
    "        else: doc_term_matrix[term].append(0)\n",
    "            \n",
    "doc_term_matrix\n",
    "            "
   ]
  },
  {
   "cell_type": "code",
   "execution_count": 14,
   "id": "14a0757b",
   "metadata": {},
   "outputs": [
    {
     "name": "stdout",
     "output_type": "stream",
     "text": [
      "[1 0 0]\n",
      "[1 1 0]\n",
      "........\n",
      "[1 0 0]\n"
     ]
    }
   ],
   "source": [
    "# The query to find all documents containing \"Glider\" and \"soccer\"\n",
    "# Is just a bitwise AND:\n",
    "\n",
    "import numpy as np\n",
    "\n",
    "docs_array = np.array(docs, dtype='object')\n",
    "\n",
    "v1=np.array(doc_term_matrix['Glider'])\n",
    "v2=np.array(doc_term_matrix['soccer'])\n",
    "\n",
    "print(v1)\n",
    "print(v2)\n",
    "print('........')\n",
    "v3=v1 & v2\n",
    "print(v3)"
   ]
  },
  {
   "cell_type": "code",
   "execution_count": 15,
   "id": "ca300280",
   "metadata": {},
   "outputs": [
    {
     "data": {
      "text/plain": [
       "['The Glider II is a great soccer ball']"
      ]
     },
     "execution_count": 15,
     "metadata": {},
     "output_type": "execute_result"
    }
   ],
   "source": [
    "# We can now get the matching documents from our corpus with result\n",
    "[doc for doc in v3 * docs_array if doc]"
   ]
  },
  {
   "cell_type": "code",
   "execution_count": 17,
   "id": "e2bc8a72",
   "metadata": {},
   "outputs": [
    {
     "name": "stdout",
     "output_type": "stream",
     "text": [
      "[1 1 1]\n",
      "[1 1 0]\n",
      "........\n",
      "[1 1 0]\n"
     ]
    }
   ],
   "source": [
    "v1 = np.array(doc_term_matrix['a'])\n",
    "v2 = np.array(doc_term_matrix['ball'])\n",
    "\n",
    "print(v1)\n",
    "print(v2)\n",
    "print('........')\n",
    "v3=v1 & v2\n",
    "print(v3)\n"
   ]
  },
  {
   "cell_type": "code",
   "execution_count": 18,
   "id": "59ac48bd",
   "metadata": {},
   "outputs": [
    {
     "data": {
      "text/plain": [
       "['The Glider II is a great soccer ball', 'What a bad soccer ball']"
      ]
     },
     "execution_count": 18,
     "metadata": {},
     "output_type": "execute_result"
    }
   ],
   "source": [
    "[doc for doc in v3 * docs_array if doc]"
   ]
  },
  {
   "cell_type": "code",
   "execution_count": 19,
   "id": "eb6d8adb",
   "metadata": {},
   "outputs": [],
   "source": [
    "# Bitwise OR to constuct 'this' of 'that' queries."
   ]
  },
  {
   "cell_type": "code",
   "execution_count": 21,
   "id": "8d4e5df2",
   "metadata": {},
   "outputs": [
    {
     "name": "stdout",
     "output_type": "stream",
     "text": [
      "[1 0 0]\n",
      "[0 1 0]\n",
      "........\n",
      "[1 1 0]\n"
     ]
    }
   ],
   "source": [
    "v1 = np.array(doc_term_matrix['great'])\n",
    "v2 = np.array(doc_term_matrix['bad'])\n",
    "\n",
    "print(v1)\n",
    "print(v2)\n",
    "print('........')\n",
    "v3=v1 | v2\n",
    "print(v3)\n"
   ]
  },
  {
   "cell_type": "code",
   "execution_count": 22,
   "id": "3312b497",
   "metadata": {},
   "outputs": [
    {
     "data": {
      "text/plain": [
       "['The Glider II is a great soccer ball', 'What a bad soccer ball']"
      ]
     },
     "execution_count": 22,
     "metadata": {},
     "output_type": "execute_result"
    }
   ],
   "source": [
    "[doc for doc in v3 * docs_array if doc]"
   ]
  }
 ],
 "metadata": {
  "kernelspec": {
   "display_name": "Python 3 (ipykernel)",
   "language": "python",
   "name": "python3"
  },
  "language_info": {
   "codemirror_mode": {
    "name": "ipython",
    "version": 3
   },
   "file_extension": ".py",
   "mimetype": "text/x-python",
   "name": "python",
   "nbconvert_exporter": "python",
   "pygments_lexer": "ipython3",
   "version": "3.11.3"
  }
 },
 "nbformat": 4,
 "nbformat_minor": 5
}
